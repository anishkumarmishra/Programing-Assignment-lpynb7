{
  "nbformat": 4,
  "nbformat_minor": 0,
  "metadata": {
    "colab": {
      "provenance": []
    },
    "kernelspec": {
      "name": "python3",
      "display_name": "Python 3"
    },
    "language_info": {
      "name": "python"
    }
  },
  "cells": [
    {
      "cell_type": "markdown",
      "source": [
        "###1. Write a Python Program to find sum of array?"
      ],
      "metadata": {
        "id": "Y7DOPm4yB7dt"
      }
    },
    {
      "cell_type": "code",
      "source": [
        "def sumOfArray():\n",
        "    in_arr = eval(input(\"Enter the Array: \"))\n",
        "    print(f'The sum of {in_arr} is {sum(in_arr)}')\n",
        "\n",
        "sumOfArray()"
      ],
      "metadata": {
        "colab": {
          "base_uri": "https://localhost:8080/"
        },
        "id": "x-tagE3dB_4O",
        "outputId": "0a0a8dd7-6781-4aa5-a791-e1113642206a"
      },
      "execution_count": 2,
      "outputs": [
        {
          "output_type": "stream",
          "name": "stdout",
          "text": [
            "Enter the Array: 1,2,3,4,5\n",
            "The sum of (1, 2, 3, 4, 5) is 15\n"
          ]
        }
      ]
    },
    {
      "cell_type": "markdown",
      "source": [
        "###2. Write a Python Program to find Largest element in an Array ?"
      ],
      "metadata": {
        "id": "lzbMcjaOCM63"
      }
    },
    {
      "cell_type": "code",
      "source": [
        "def largestElement():\n",
        "    in_arr = eval(input(\"Enter the Array: \"))\n",
        "    print(f\"The Largest Element in {in_arr} is {sorted(in_arr, reverse=True)[0]}\")\n",
        "\n",
        "largestElement()"
      ],
      "metadata": {
        "colab": {
          "base_uri": "https://localhost:8080/"
        },
        "id": "InoiLiPGCgM2",
        "outputId": "9354ff0c-5223-44c7-aa3d-483adb8c0acb"
      },
      "execution_count": 3,
      "outputs": [
        {
          "output_type": "stream",
          "name": "stdout",
          "text": [
            "Enter the Array: 1,2,5,6,7\n",
            "The Largest Element in (1, 2, 5, 6, 7) is 7\n"
          ]
        }
      ]
    },
    {
      "cell_type": "markdown",
      "source": [
        "###3. Write a Python Program for array rotation ?"
      ],
      "metadata": {
        "id": "MXQOv0ZWCrRH"
      }
    },
    {
      "cell_type": "code",
      "source": [
        "def reverseOfArray():\n",
        "    in_arr = eval(input(\"Enter the Array: \"))\n",
        "    print(f\"The Reverse of Array {in_arr} is {in_arr[::-1]}\")\n",
        "\n",
        "reverseOfArray()"
      ],
      "metadata": {
        "colab": {
          "base_uri": "https://localhost:8080/"
        },
        "id": "tmM7HnYLCu2T",
        "outputId": "2e871982-3dcf-4b20-fa3d-737e6a8a49e1"
      },
      "execution_count": 4,
      "outputs": [
        {
          "output_type": "stream",
          "name": "stdout",
          "text": [
            "Enter the Array: 11,12,45,78\n",
            "The Reverse of Array (11, 12, 45, 78) is (78, 45, 12, 11)\n"
          ]
        }
      ]
    },
    {
      "cell_type": "markdown",
      "source": [
        "###4. Write a Python Program to Split the array and add the first part to the end ?"
      ],
      "metadata": {
        "id": "IH1VzC-oC3GE"
      }
    },
    {
      "cell_type": "code",
      "source": [
        "def sumOfSplits():\n",
        "    in_arr = eval(input(\"Enter the Array: \"))\n",
        "    print(f\"The Sum of First and Last Elements of Array {in_arr} is {in_arr[0]+in_arr[-1]}\")\n",
        "\n",
        "sumOfSplits()"
      ],
      "metadata": {
        "colab": {
          "base_uri": "https://localhost:8080/"
        },
        "id": "I-lWjAQfC6Xd",
        "outputId": "afd12c67-4841-4658-a9ee-13df4e8b035a"
      },
      "execution_count": 5,
      "outputs": [
        {
          "output_type": "stream",
          "name": "stdout",
          "text": [
            "Enter the Array: 12,14,15,16,12,17\n",
            "The Sum of First and Last Elements of Array (12, 14, 15, 16, 12, 17) is 29\n"
          ]
        }
      ]
    },
    {
      "cell_type": "markdown",
      "source": [
        "###5. Write a Python Program to check if given array is Monotonic ?"
      ],
      "metadata": {
        "id": "H9iSRUPbDB4Y"
      }
    },
    {
      "cell_type": "code",
      "source": [
        "def checkMonotonic():\n",
        "    in_arr = eval(input(\"Enter the Array: \"))\n",
        "    if(all(in_arr[i]<=in_arr[i+1] for i in range(len(in_arr)-1)) or all(in_arr[i]>=in_arr[i+1] for i in range(len(in_arr)-1))):\n",
        "        print(f'Array {in_arr} is Monotonic')\n",
        "    else:\n",
        "        print(f'Array {in_arr} is Not Monotonic')\n",
        "\n",
        "checkMonotonic()\n",
        "checkMonotonic()"
      ],
      "metadata": {
        "colab": {
          "base_uri": "https://localhost:8080/"
        },
        "id": "zrlaTZDWDIW1",
        "outputId": "ecbb1c6f-6b7a-40d9-8253-0f2824d4d674"
      },
      "execution_count": 6,
      "outputs": [
        {
          "output_type": "stream",
          "name": "stdout",
          "text": [
            "Enter the Array: 1,2,3,4,5\n",
            "Array (1, 2, 3, 4, 5) is Monotonic\n",
            "Enter the Array: 5,8,9,6,\n",
            "Array (5, 8, 9, 6) is Not Monotonic\n"
          ]
        }
      ]
    }
  ]
}